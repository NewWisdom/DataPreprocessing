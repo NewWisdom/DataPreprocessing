{
 "cells": [
  {
   "cell_type": "code",
   "execution_count": 7,
   "metadata": {},
   "outputs": [
    {
     "name": "stdout",
     "output_type": "stream",
     "text": [
      "['data\\\\0', 'data\\\\1', 'data\\\\2', 'data\\\\3', 'data\\\\4']\n",
      "5\n"
     ]
    }
   ],
   "source": [
    "import librosa\n",
    "import librosa.display\n",
    "import IPython.display as ipd\n",
    "import numpy as np\n",
    "import matplotlib.pyplot as plt\n",
    "import matplotlib as mpl\n",
    "import matplotlib.font_manager as fm\n",
    "import glob\n",
    "\n",
    "\n",
    "%matplotlib inline\n",
    "\n",
    "FIG_SIZE = (15,10)\n",
    "\n",
    "folder_list = glob.glob(\"data/*\")\n",
    "print(folder_list)\n",
    "print(len(folder_list))\n",
    "file_list=[]\n",
    "for i in range(len(folder_list)):\n",
    "    file=glob.glob(folder_list[i]+\"/*\")\n",
    "    file_list.append(file)\n",
    "    sig=[None]*len(file_list[i])\n",
    "    sr=[None]*len(file_list[i])\n",
    "\n",
    "    index=0\n",
    "    for j in file_list[i]:        \n",
    "        ipd.Audio(j, rate=sr[index])\n",
    "        \n",
    "    "
   ]
  }
 ],
 "metadata": {
  "kernelspec": {
   "display_name": "Python 3",
   "language": "python",
   "name": "python3"
  },
  "language_info": {
   "codemirror_mode": {
    "name": "ipython",
    "version": 3
   },
   "file_extension": ".py",
   "mimetype": "text/x-python",
   "name": "python",
   "nbconvert_exporter": "python",
   "pygments_lexer": "ipython3",
   "version": "3.7.6"
  }
 },
 "nbformat": 4,
 "nbformat_minor": 4
}
